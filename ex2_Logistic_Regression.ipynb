{
 "cells": [
  {
   "cell_type": "markdown",
   "metadata": {},
   "source": [
    "## Machine Learning Online Class - Exercise 2: Logistic Regression"
   ]
  },
  {
   "cell_type": "markdown",
   "metadata": {},
   "source": [
    "## 1. Logistic Regression\n",
    "## Part 1: Initialization"
   ]
  },
  {
   "cell_type": "code",
   "execution_count": 1,
   "metadata": {
    "collapsed": false
   },
   "outputs": [
    {
     "data": {
      "text/html": [
       "<div>\n",
       "<table border=\"1\" class=\"dataframe\">\n",
       "  <thead>\n",
       "    <tr style=\"text-align: right;\">\n",
       "      <th></th>\n",
       "      <th>Exam 1</th>\n",
       "      <th>Exam 2</th>\n",
       "      <th>Admitted</th>\n",
       "    </tr>\n",
       "  </thead>\n",
       "  <tbody>\n",
       "    <tr>\n",
       "      <th>0</th>\n",
       "      <td>34.623660</td>\n",
       "      <td>78.024693</td>\n",
       "      <td>0</td>\n",
       "    </tr>\n",
       "    <tr>\n",
       "      <th>1</th>\n",
       "      <td>30.286711</td>\n",
       "      <td>43.894998</td>\n",
       "      <td>0</td>\n",
       "    </tr>\n",
       "    <tr>\n",
       "      <th>2</th>\n",
       "      <td>35.847409</td>\n",
       "      <td>72.902198</td>\n",
       "      <td>0</td>\n",
       "    </tr>\n",
       "    <tr>\n",
       "      <th>3</th>\n",
       "      <td>60.182599</td>\n",
       "      <td>86.308552</td>\n",
       "      <td>1</td>\n",
       "    </tr>\n",
       "    <tr>\n",
       "      <th>4</th>\n",
       "      <td>79.032736</td>\n",
       "      <td>75.344376</td>\n",
       "      <td>1</td>\n",
       "    </tr>\n",
       "  </tbody>\n",
       "</table>\n",
       "</div>"
      ],
      "text/plain": [
       "      Exam 1     Exam 2  Admitted\n",
       "0  34.623660  78.024693         0\n",
       "1  30.286711  43.894998         0\n",
       "2  35.847409  72.902198         0\n",
       "3  60.182599  86.308552         1\n",
       "4  79.032736  75.344376         1"
      ]
     },
     "execution_count": 1,
     "metadata": {},
     "output_type": "execute_result"
    }
   ],
   "source": [
    "import numpy as np\n",
    "import pandas as pd # 读取数据到DataFrame\n",
    "from matplotlib import pyplot as plt\n",
    "# 在notebook中显示绘图结果\n",
    "%matplotlib inline\n",
    "\n",
    "# 设置一些全局的资源参数，可以进行个性化修改\n",
    "import matplotlib\n",
    "# 设置图片尺寸 14\" x 7\"\n",
    "# rc: resource configuration   资源配置\n",
    "matplotlib.rc('figure', figsize = (14, 7))\n",
    "# 设置字体 14\n",
    "matplotlib.rc('font', size = 14)\n",
    "# 不显示顶部和右侧的坐标线\n",
    "matplotlib.rc('axes.spines', top = False, right = False)\n",
    "# 不显示网格\n",
    "matplotlib.rc('axes', grid = False)\n",
    "# 设置背景颜色是白色\n",
    "matplotlib.rc('axes', facecolor = 'white')\n",
    "\n",
    "names1 = ['Exam 1','Exam 2','Admitted']\n",
    "data1 = pd.read_csv('ex2data1.txt',header = None,names = names1)\n",
    "X = data1[['Exam 1','Exam 2']]\n",
    "y = data1[['Admitted']]\n",
    "data1.head()"
   ]
  },
  {
   "cell_type": "markdown",
   "metadata": {},
   "source": [
    "## Part 2: Plotting - Visualizing the data"
   ]
  },
  {
   "cell_type": "code",
   "execution_count": 2,
   "metadata": {
    "collapsed": false
   },
   "outputs": [],
   "source": [
    "# Method 1\n",
    "def plotData(X, y):\n",
    "#PLOTDATA Plots the data points X and y into a new figure \n",
    "#   PLOTDATA(x,y) plots the data points with + for the positive examples\n",
    "#   and o for the negative examples. X is assumed to be a Mx2 matrix.\n",
    "\n",
    "# Instructions: Plot the positive and negative examples on a\n",
    "#               2D plot, using the option 'k+' for the positive\n",
    "#               examples and 'ko' for the negative examples.\n",
    "\n",
    "    # Find Indices of Positive and Negative Examples\n",
    "    pos = y.Admitted==1\n",
    "    neg = y.Admitted==0\n",
    "\n",
    "    # Plot Examples\n",
    "    plt.plot(X[pos]['Exam 1'] , X[pos]['Exam 2'] , 'k+' )\n",
    "    plt.plot(X[neg]['Exam 1'] , X[neg]['Exam 2'] , 'ko' )\n",
    "    # Labels and Legend\n",
    "    plt.xlabel('Exam 1 score')\n",
    "    plt.ylabel('Exam 2 score')\n",
    "    plt.legend(['Admitted', 'Not admitted'])\n",
    "\n",
    "# Method 2\n",
    "def plotData2(data):\n",
    "    positive = data[data['Admitted'].isin([1])]  \n",
    "    negative = data[data['Admitted'].isin([0])]\n",
    "\n",
    "    fig, ax = plt.subplots(figsize=(12,8))  \n",
    "    ax.scatter(positive['Exam 1'], positive['Exam 2'], s=50, c='b', marker='o', label='Admitted')  \n",
    "    ax.scatter(negative['Exam 1'], negative['Exam 2'], s=50, c='r', marker='x', label='Not Admitted')  \n",
    "    ax.legend()  \n",
    "    ax.set_xlabel('Exam 1 Score')  \n",
    "    ax.set_ylabel('Exam 2 Score')  "
   ]
  },
  {
   "cell_type": "code",
   "execution_count": 3,
   "metadata": {
    "collapsed": false
   },
   "outputs": [
    {
     "name": "stdout",
     "output_type": "stream",
     "text": [
      "Plotting data with + indicating (y = 1) examples and o indicating (y = 0) examples.\n",
      "\n"
     ]
    },
    {
     "data": {
      "image/png": "[encoded data removed]",
      "text/plain": [
       "<matplotlib.figure.Figure at 0x1083bcda0>"
      ]
     },
     "metadata": {},
     "output_type": "display_data"
    },
    {
     "data": {
      "image/png": "[encoded data removed]",
      "text/plain": [
       "<matplotlib.figure.Figure at 0x1083bc8d0>"
      ]
     },
     "metadata": {},
     "output_type": "display_data"
    }
   ],
   "source": [
    "#  We start the exercise by first plotting the data to understand the \n",
    "#  the problem we are working with.\n",
    "print('Plotting data with + indicating (y = 1) examples and o indicating (y = 0) examples.\\n')\n",
    "plotData(X, y)\n",
    "plotData2(data1)"
   ]
  },
  {
   "cell_type": "markdown",
   "metadata": {},
   "source": [
    "y## Part 2: Compute Cost and Gradient"
   ]
  },
  {
   "cell_type": "markdown",
   "metadata": {},
   "source": [
    "### Sigmoid function\n",
    "This function is the “activation” function for the output of logistic regression. It converts a continuous input into a value between zero and one. This value can be interpreted as the class probability, or the likelihood that the input example should be classified positively.\n",
    "\n",
    "Recall that the logistic regression hypothesis is defined as:\n",
    "$$h_\\theta(x) = g(\\theta^Tx)\\,.$$\n",
    "The sigmoid function is defined as:\n",
    "$$g(z) = \\frac{1}{1+e^z}\\,.$$"
   ]
  },
  {
   "cell_type": "code",
   "execution_count": 4,
   "metadata": {
    "collapsed": false
   },
   "outputs": [],
   "source": [
    "def sigmoid(z):\n",
    "# SIGMOID Compute sigmoid functoon\n",
    "#   J = SIGMOID(z) computes the sigmoid of z.\n",
    "    g = np.zeros(z.shape[0])\n",
    "    # Instructions: Compute the sigmoid of each value of z (z can be a matrix,\n",
    "    #               vector or scalar).\n",
    "    g = 1 / (1 + np.exp(-z))\n",
    "    return g"
   ]
  },
  {
   "cell_type": "markdown",
   "metadata": {},
   "source": [
    "Using this probability along with a threshold value, we can obtain a discrete label prediction. It helps to visualize the function’s output to see what it’s really doing."
   ]
  },
  {
   "cell_type": "code",
   "execution_count": 5,
   "metadata": {
    "collapsed": false
   },
   "outputs": [
    {
     "data": {
      "text/plain": [
       "[<matplotlib.lines.Line2D at 0x10aeb7c50>]"
      ]
     },
     "execution_count": 5,
     "metadata": {},
     "output_type": "execute_result"
    },
    {
     "data": {
      "image/png": "[encoded data removed]",
      "text/plain": [
       "<matplotlib.figure.Figure at 0x10aeb7cc0>"
      ]
     },
     "metadata": {},
     "output_type": "display_data"
    }
   ],
   "source": [
    "nums = np.arange(-10, 10, step=1)\n",
    "\n",
    "fig, ax = plt.subplots(figsize=(10,5))  \n",
    "ax.plot(nums, sigmoid(nums), 'r')"
   ]
  },
  {
   "cell_type": "markdown",
   "metadata": {},
   "source": [
    "### Cost function and gradient\n",
    "\n",
    "In this part of the exercise, you will implement the cost and gradient for logistic regression.\n",
    "\n",
    "COSTFUNCTION Compute cost and gradient for logistic regression\n",
    "\n",
    "Remember that the cost function evaluates the performance of the model on the training data given a set of model parameters. Here’s the cost function for logistic regression.\n",
    "\n",
    "Recall that the cost function in logistic regression is\n",
    "$$ J(\\theta) = \\frac{1}{m}\\sum^{m}_{i=1}[-y^{i}log(h_{\\theta}(x^{(i)}))-(1-y^{(i)})log(1-h_{\\theta}(x^{(i)}))]\\,, $$\n",
    "and the gradient of the cost is a vector $\\theta$ where the $j^{th}$ element (for $j=0,1,2,...,n$) is defined as follows:\n",
    "    $$\\frac{\\partial J(\\theta)}{\\partial\\theta_j} = \\frac{1}{m}\\sum^{m}_{i=1}(h_\\theta(x^{(i)})-y^{(i)})x_j^{(i)}.$$"
   ]
  },
  {
   "cell_type": "code",
   "execution_count": 6,
   "metadata": {
    "collapsed": true
   },
   "outputs": [],
   "source": [
    "def costFunction(theta, X, y):\n",
    "#   J = COSTFUNCTION(theta, X, y) computes the cost of using theta as the\n",
    "#   parameter for logistic regression and the gradient of the cost\n",
    "#   w.r.t. to the parameters.\n",
    "\n",
    "    # Initialize some useful values\n",
    "    m = len(y) # number of training examples\n",
    "    J = 0\n",
    "    grad = np.zeros((theta.shape[0],1))\n",
    "    \n",
    "    # Instructions: Compute the cost of a particular choice of theta.\n",
    "    #               You should set J to the cost.\n",
    "    #               Compute the partial derivatives and set grad to the partial\n",
    "    #               derivatives of the cost w.r.t. each parameter in theta\n",
    "    # Note: grad should have the same dimensions as theta\n",
    "    #=====================Compute J====================\n",
    "    H = sigmoid(X.dot(theta))\n",
    "    T = np.array(y) * np.log(H) + (1 - np.array(y)) * np.log(1 - H)\n",
    "    J = -1/m*np.sum(T)\n",
    "    #====================Compute grad==================\n",
    "    for i in range(m):\n",
    "        grad = grad + (H.iloc[i,0] - y.iloc[i,0]) * np.array([X.iloc[i]]).T\n",
    "    grad = 1/m*grad\n",
    "    return J,grad\n",
    "\n",
    "def cost(theta, X, y):\n",
    "    theta = np.matrix(theta)\n",
    "    X = np.matrix(X)\n",
    "    y = np.matrix(y)\n",
    "    first = np.multiply(-y, np.log(sigmoid(X * theta.T)))\n",
    "    second = np.multiply((1 - y), np.log(1 - sigmoid(X * theta.T)))\n",
    "    return np.sum(first - second) / (len(X))"
   ]
  },
  {
   "cell_type": "code",
   "execution_count": 7,
   "metadata": {
    "collapsed": true
   },
   "outputs": [],
   "source": [
    "# add a ones column - this makes the matrix multiplication work out easier\n",
    "data1.insert(0, 'Ones', 1)\n",
    "\n",
    "# set X (training data) and y (target variable)\n",
    "cols = data1.shape[1]\n",
    "X0 = data1.iloc[:,0:cols-1]\n",
    "y0 = data1.iloc[:,cols-1:cols]\n",
    "\n",
    "# convert to numpy arrays and initalize the parameter array theta\n",
    "X0 = np.array(X0.values)\n",
    "y0 = np.array(y0.values)\n",
    "theta0 = np.zeros(3)"
   ]
  },
  {
   "cell_type": "code",
   "execution_count": 8,
   "metadata": {
    "collapsed": false
   },
   "outputs": [
    {
     "data": {
      "text/plain": [
       "0.69314718055994529"
      ]
     },
     "execution_count": 8,
     "metadata": {},
     "output_type": "execute_result"
    }
   ],
   "source": [
    "# compute the cost for our initial solution given zeros for the model parameters\n",
    "cost(theta0, X0, y0)  "
   ]
  },
  {
   "cell_type": "markdown",
   "metadata": {},
   "source": [
    "对比，NG的Octave版本："
   ]
  },
  {
   "cell_type": "code",
   "execution_count": 9,
   "metadata": {
    "collapsed": false,
    "scrolled": true
   },
   "outputs": [
    {
     "name": "stdout",
     "output_type": "stream",
     "text": [
      "Cost at initial theta (zeros): 0.693147\n",
      "Gradient at initial theta (zeros): \n",
      " -0.100000 \n",
      " -12.009217 \n",
      " -11.262842\n"
     ]
    }
   ],
   "source": [
    "#  Setup the data matrix appropriately, and add ones for the intercept term\n",
    "[m,n] = X.shape\n",
    "\n",
    "# Add intercept term to x and X_test\n",
    "df1 = pd.DataFrame(np.array([np.ones((m))]).T)\n",
    "X = pd.concat([df1,X],axis=1)\n",
    "\n",
    "# Initialize fitting parameters\n",
    "initial_theta = np.zeros((n + 1, 1))\n",
    "\n",
    "# Compute and display initial cost and gradient\n",
    "[cost0,grad] = costFunction(initial_theta,X,y)\n",
    "print('Cost at initial theta (zeros): %f' %cost0)\n",
    "print('Gradient at initial theta (zeros): ')\n",
    "print(' %f \\n %f \\n %f' %(grad[0],grad[1],grad[2]))"
   ]
  },
  {
   "cell_type": "markdown",
   "metadata": {},
   "source": [
    "## Part 3: Optimizing using SciPy （like Octave's fminunc）"
   ]
  },
  {
   "cell_type": "code",
   "execution_count": 10,
   "metadata": {
    "collapsed": false
   },
   "outputs": [],
   "source": [
    "def gradient(theta, X, y):  \n",
    "    theta = np.matrix(theta)\n",
    "    X = np.matrix(X)\n",
    "    y = np.matrix(y)\n",
    "\n",
    "    parameters = int(theta.ravel().shape[1])\n",
    "    grad = np.zeros(parameters)\n",
    "\n",
    "    error = sigmoid(X * theta.T) - y\n",
    "\n",
    "    for i in range(parameters):\n",
    "        term = np.multiply(error, X[:,i])\n",
    "        grad[i] = np.sum(term) / len(X)\n",
    "\n",
    "    return grad"
   ]
  },
  {
   "cell_type": "markdown",
   "metadata": {},
   "source": [
    "Note that we don't actually perform gradient descent in this function - we just compute a single gradient step. In the exercise, an Octave function called \"fminunc\" is used to optimize the parameters given functions to compute the cost and the gradients. Since we're using Python, we can use SciPy's optimization API to do the same thing."
   ]
  },
  {
   "cell_type": "code",
   "execution_count": 11,
   "metadata": {
    "collapsed": false
   },
   "outputs": [
    {
     "name": "stdout",
     "output_type": "stream",
     "text": [
      "Cost at theta found by opt.fmin_tnc: \n",
      " 0.203497701589\n",
      "theta:\n",
      " -25.161319 \n",
      " 0.206232 \n",
      " 0.201471\n"
     ]
    }
   ],
   "source": [
    "import scipy.optimize as opt  \n",
    "result = opt.fmin_tnc(func=cost, x0=theta0, fprime=gradient, args=(X0, y0))  \n",
    "cost(result[0], X0, y0)\n",
    "\n",
    "# Print theta to screen\n",
    "print('Cost at theta found by opt.fmin_tnc: \\n', cost(result[0], X0, y0))\n",
    "print('theta:')\n",
    "print(' %f \\n %f \\n %f' %(result[0][0],result[0][1],result[0][2]))"
   ]
  },
  {
   "cell_type": "code",
   "execution_count": 12,
   "metadata": {
    "collapsed": false
   },
   "outputs": [
    {
     "name": "stdout",
     "output_type": "stream",
     "text": [
      "Help on function fmin_tnc in module scipy.optimize.tnc:\n",
      "\n",
      "fmin_tnc(func, x0, fprime=None, args=(), approx_grad=0, bounds=None, epsilon=1e-08, scale=None, offset=None, messages=15, maxCGit=-1, maxfun=None, eta=-1, stepmx=0, accuracy=0, fmin=0, ftol=-1, xtol=-1, pgtol=-1, rescale=-1, disp=None, callback=None)\n",
      "    Minimize a function with variables subject to bounds, using\n",
      "    gradient information in a truncated Newton algorithm. This\n",
      "    method wraps a C implementation of the algorithm.\n",
      "    \n",
      "    Parameters\n",
      "    ----------\n",
      "    func : callable ``func(x, *args)``\n",
      "        Function to minimize.  Must do one of:\n",
      "    \n",
      "        1. Return f and g, where f is the value of the function and g its\n",
      "           gradient (a list of floats).\n",
      "    \n",
      "        2. Return the function value but supply gradient function\n",
      "           separately as `fprime`.\n",
      "    \n",
      "        3. Return the function value and set ``approx_grad=True``.\n",
      "    \n",
      "        If the function returns None, the minimization\n",
      "        is aborted.\n",
      "    x0 : array_like\n",
      "        Initial estimate of minimum.\n",
      "    fprime : callable ``fprime(x, *args)``, optional\n",
      "        Gradient of `func`. If None, then either `func` must return the\n",
      "        function value and the gradient (``f,g = func(x, *args)``)\n",
      "        or `approx_grad` must be True.\n",
      "    args : tuple, optional\n",
      "        Arguments to pass to function.\n",
      "    approx_grad : bool, optional\n",
      "        If true, approximate the gradient numerically.\n",
      "    bounds : list, optional\n",
      "        (min, max) pairs for each element in x0, defining the\n",
      "        bounds on that parameter. Use None or +/-inf for one of\n",
      "        min or max when there is no bound in that direction.\n",
      "    epsilon : float, optional\n",
      "        Used if approx_grad is True. The stepsize in a finite\n",
      "        difference approximation for fprime.\n",
      "    scale : array_like, optional\n",
      "        Scaling factors to apply to each variable.  If None, the\n",
      "        factors are up-low for interval bounded variables and\n",
      "        1+|x| for the others.  Defaults to None.\n",
      "    offset : array_like, optional\n",
      "        Value to subtract from each variable.  If None, the\n",
      "        offsets are (up+low)/2 for interval bounded variables\n",
      "        and x for the others.\n",
      "    messages : int, optional\n",
      "        Bit mask used to select messages display during\n",
      "        minimization values defined in the MSGS dict.  Defaults to\n",
      "        MGS_ALL.\n",
      "    disp : int, optional\n",
      "        Integer interface to messages.  0 = no message, 5 = all messages\n",
      "    maxCGit : int, optional\n",
      "        Maximum number of hessian*vector evaluations per main\n",
      "        iteration.  If maxCGit == 0, the direction chosen is\n",
      "        -gradient if maxCGit < 0, maxCGit is set to\n",
      "        max(1,min(50,n/2)).  Defaults to -1.\n",
      "    maxfun : int, optional\n",
      "        Maximum number of function evaluation.  if None, maxfun is\n",
      "        set to max(100, 10*len(x0)).  Defaults to None.\n",
      "    eta : float, optional\n",
      "        Severity of the line search. if < 0 or > 1, set to 0.25.\n",
      "        Defaults to -1.\n",
      "    stepmx : float, optional\n",
      "        Maximum step for the line search.  May be increased during\n",
      "        call.  If too small, it will be set to 10.0.  Defaults to 0.\n",
      "    accuracy : float, optional\n",
      "        Relative precision for finite difference calculations.  If\n",
      "        <= machine_precision, set to sqrt(machine_precision).\n",
      "        Defaults to 0.\n",
      "    fmin : float, optional\n",
      "        Minimum function value estimate.  Defaults to 0.\n",
      "    ftol : float, optional\n",
      "        Precision goal for the value of f in the stoping criterion.\n",
      "        If ftol < 0.0, ftol is set to 0.0 defaults to -1.\n",
      "    xtol : float, optional\n",
      "        Precision goal for the value of x in the stopping\n",
      "        criterion (after applying x scaling factors).  If xtol <\n",
      "        0.0, xtol is set to sqrt(machine_precision).  Defaults to\n",
      "        -1.\n",
      "    pgtol : float, optional\n",
      "        Precision goal for the value of the projected gradient in\n",
      "        the stopping criterion (after applying x scaling factors).\n",
      "        If pgtol < 0.0, pgtol is set to 1e-2 * sqrt(accuracy).\n",
      "        Setting it to 0.0 is not recommended.  Defaults to -1.\n",
      "    rescale : float, optional\n",
      "        Scaling factor (in log10) used to trigger f value\n",
      "        rescaling.  If 0, rescale at each iteration.  If a large\n",
      "        value, never rescale.  If < 0, rescale is set to 1.3.\n",
      "    callback : callable, optional\n",
      "        Called after each iteration, as callback(xk), where xk is the\n",
      "        current parameter vector.\n",
      "    \n",
      "    Returns\n",
      "    -------\n",
      "    x : ndarray\n",
      "        The solution.\n",
      "    nfeval : int\n",
      "        The number of function evaluations.\n",
      "    rc : int\n",
      "        Return code, see below\n",
      "    \n",
      "    See also\n",
      "    --------\n",
      "    minimize: Interface to minimization algorithms for multivariate\n",
      "        functions. See the 'TNC' `method` in particular.\n",
      "    \n",
      "    Notes\n",
      "    -----\n",
      "    The underlying algorithm is truncated Newton, also called\n",
      "    Newton Conjugate-Gradient. This method differs from\n",
      "    scipy.optimize.fmin_ncg in that\n",
      "    \n",
      "    1. It wraps a C implementation of the algorithm\n",
      "    2. It allows each variable to be given an upper and lower bound.\n",
      "    \n",
      "    The algorithm incoporates the bound constraints by determining\n",
      "    the descent direction as in an unconstrained truncated Newton,\n",
      "    but never taking a step-size large enough to leave the space\n",
      "    of feasible x's. The algorithm keeps track of a set of\n",
      "    currently active constraints, and ignores them when computing\n",
      "    the minimum allowable step size. (The x's associated with the\n",
      "    active constraint are kept fixed.) If the maximum allowable\n",
      "    step size is zero then a new constraint is added. At the end\n",
      "    of each iteration one of the constraints may be deemed no\n",
      "    longer active and removed. A constraint is considered\n",
      "    no longer active is if it is currently active\n",
      "    but the gradient for that variable points inward from the\n",
      "    constraint. The specific constraint removed is the one\n",
      "    associated with the variable of largest index whose\n",
      "    constraint is no longer active.\n",
      "    \n",
      "    Return codes are defined as follows::\n",
      "    \n",
      "        -1 : Infeasible (lower bound > upper bound)\n",
      "         0 : Local minimum reached (|pg| ~= 0)\n",
      "         1 : Converged (|f_n-f_(n-1)| ~= 0)\n",
      "         2 : Converged (|x_n-x_(n-1)| ~= 0)\n",
      "         3 : Max. number of function evaluations reached\n",
      "         4 : Linear search failed\n",
      "         5 : All lower bounds are equal to the upper bounds\n",
      "         6 : Unable to progress\n",
      "         7 : User requested end of minimization\n",
      "    \n",
      "    References\n",
      "    ----------\n",
      "    Wright S., Nocedal J. (2006), 'Numerical Optimization'\n",
      "    \n",
      "    Nash S.G. (1984), \"Newton-Type Minimization Via the Lanczos Method\",\n",
      "    SIAM Journal of Numerical Analysis 21, pp. 770-778\n",
      "\n"
     ]
    }
   ],
   "source": [
    "help(opt.fmin_tnc)"
   ]
  },
  {
   "cell_type": "markdown",
   "metadata": {},
   "source": [
    "## Part 4: Predict and Accuracies"
   ]
  },
  {
   "cell_type": "code",
   "execution_count": 13,
   "metadata": {
    "collapsed": false
   },
   "outputs": [
    {
     "name": "stdout",
     "output_type": "stream",
     "text": [
      "Train accuracy = 89%\n",
      "For a student with scores 45 and 85, we predict an admission probability of  [[ 0.77629062]]\n"
     ]
    }
   ],
   "source": [
    "def predict(theta, X):  \n",
    "    probability = sigmoid(X * theta.T)\n",
    "    return [1 if x >= 0.5 else 0 for x in probability]\n",
    "\n",
    "theta_min = np.matrix(result[0])  \n",
    "predictions = predict(theta_min, X0)  \n",
    "\n",
    "# Compute accuracy on our training set\n",
    "correct = [1 if ((a == 1 and b == 1) or (a == 0 and b == 0)) else 0 for (a, b) in zip(predictions, y0)]  \n",
    "accuracy = (sum(map(int, correct)) % len(correct))  \n",
    "print('Train accuracy = {0}%'.format(accuracy))\n",
    "\n",
    "prob = sigmoid(np.array([[1,45,85]]) * theta_min.T)\n",
    "print('For a student with scores 45 and 85, we predict an admission probability of ', prob);\n",
    "\n",
    "# Plot Boundary\n",
    "#plotDecisionBoundary(theta, X, y);"
   ]
  },
  {
   "cell_type": "markdown",
   "metadata": {},
   "source": [
    "# Regularized Logistic Regression"
   ]
  },
  {
   "cell_type": "markdown",
   "metadata": {},
   "source": [
    "Now that we have a working implementation of logistic regression, we'll going to improve the algorithm by adding regularization. Regularization is a term in the cost function that causes the algorithm to prefer \"simpler\" models (in this case, models will smaller coefficients). The theory is that this helps to minimize overfitting and improve the model's ability to generalize. We’ll apply our regularized version of logistic regression to a slightly more challenging problem. Suppose you are the product manager of the factory and you have the test results for some microchips on two different tests. From these two tests, you would like to determine whether the microchips should be accepted or rejected. To help you make the decision, you have a data set of test results on past microchips, from which you can build a logistic regression model.\n",
    "\n",
    "Let's start by visualizing the data."
   ]
  },
  {
   "cell_type": "code",
   "execution_count": 16,
   "metadata": {
    "collapsed": false
   },
   "outputs": [
    {
     "data": {
      "text/plain": [
       "<matplotlib.text.Text at 0x10d0f2128>"
      ]
     },
     "execution_count": 16,
     "metadata": {},
     "output_type": "execute_result"
    },
    {
     "data": {
      "image/png": "[encoded data removed]",
      "text/plain": [
       "<matplotlib.figure.Figure at 0x10d0a7be0>"
      ]
     },
     "metadata": {},
     "output_type": "display_data"
    }
   ],
   "source": [
    "names2 = ['Test 1', 'Test 2', 'Accepted']\n",
    "data2 = pd.read_csv('ex2data2.txt',header = None,names = names2)\n",
    "\n",
    "positive = data2[data2['Accepted'].isin([1])]  \n",
    "negative = data2[data2['Accepted'].isin([0])]\n",
    "\n",
    "fig, ax = plt.subplots(figsize=(12,8))  \n",
    "ax.scatter(positive['Test 1'], positive['Test 2'], s=50, c='b', marker='o', label='Accepted')  \n",
    "ax.scatter(negative['Test 1'], negative['Test 2'], s=50, c='r', marker='x', label='Rejected')  \n",
    "ax.legend()  \n",
    "ax.set_xlabel('Test 1 Score')  \n",
    "ax.set_ylabel('Test 2 Score')  "
   ]
  },
  {
   "cell_type": "markdown",
   "metadata": {},
   "source": [
    "This data looks a bit more complicated than the previous example. In particular, you'll notice that there is no linear decision boundary that will perform well on this data. One way to deal with this using a linear technique like logistic regression is to construct features that are derived from polynomials of the original features. We can try creating a bunch of polynomial features to feed into the classifier."
   ]
  },
  {
   "cell_type": "code",
   "execution_count": 18,
   "metadata": {
    "collapsed": false
   },
   "outputs": [
    {
     "data": {
      "text/html": [
       "<div>\n",
       "<table border=\"1\" class=\"dataframe\">\n",
       "  <thead>\n",
       "    <tr style=\"text-align: right;\">\n",
       "      <th></th>\n",
       "      <th>Accepted</th>\n",
       "      <th>Ones</th>\n",
       "      <th>F10</th>\n",
       "      <th>F20</th>\n",
       "      <th>F21</th>\n",
       "      <th>F30</th>\n",
       "      <th>F31</th>\n",
       "      <th>F32</th>\n",
       "      <th>F40</th>\n",
       "      <th>F41</th>\n",
       "      <th>F42</th>\n",
       "      <th>F43</th>\n",
       "    </tr>\n",
       "  </thead>\n",
       "  <tbody>\n",
       "    <tr>\n",
       "      <th>0</th>\n",
       "      <td>1</td>\n",
       "      <td>1</td>\n",
       "      <td>0.051267</td>\n",
       "      <td>0.002628</td>\n",
       "      <td>0.035864</td>\n",
       "      <td>0.000135</td>\n",
       "      <td>0.001839</td>\n",
       "      <td>0.025089</td>\n",
       "      <td>0.000007</td>\n",
       "      <td>0.000094</td>\n",
       "      <td>0.001286</td>\n",
       "      <td>0.017551</td>\n",
       "    </tr>\n",
       "    <tr>\n",
       "      <th>1</th>\n",
       "      <td>1</td>\n",
       "      <td>1</td>\n",
       "      <td>-0.092742</td>\n",
       "      <td>0.008601</td>\n",
       "      <td>-0.063523</td>\n",
       "      <td>-0.000798</td>\n",
       "      <td>0.005891</td>\n",
       "      <td>-0.043509</td>\n",
       "      <td>0.000074</td>\n",
       "      <td>-0.000546</td>\n",
       "      <td>0.004035</td>\n",
       "      <td>-0.029801</td>\n",
       "    </tr>\n",
       "    <tr>\n",
       "      <th>2</th>\n",
       "      <td>1</td>\n",
       "      <td>1</td>\n",
       "      <td>-0.213710</td>\n",
       "      <td>0.045672</td>\n",
       "      <td>-0.147941</td>\n",
       "      <td>-0.009761</td>\n",
       "      <td>0.031616</td>\n",
       "      <td>-0.102412</td>\n",
       "      <td>0.002086</td>\n",
       "      <td>-0.006757</td>\n",
       "      <td>0.021886</td>\n",
       "      <td>-0.070895</td>\n",
       "    </tr>\n",
       "    <tr>\n",
       "      <th>3</th>\n",
       "      <td>1</td>\n",
       "      <td>1</td>\n",
       "      <td>-0.375000</td>\n",
       "      <td>0.140625</td>\n",
       "      <td>-0.188321</td>\n",
       "      <td>-0.052734</td>\n",
       "      <td>0.070620</td>\n",
       "      <td>-0.094573</td>\n",
       "      <td>0.019775</td>\n",
       "      <td>-0.026483</td>\n",
       "      <td>0.035465</td>\n",
       "      <td>-0.047494</td>\n",
       "    </tr>\n",
       "    <tr>\n",
       "      <th>4</th>\n",
       "      <td>1</td>\n",
       "      <td>1</td>\n",
       "      <td>-0.513250</td>\n",
       "      <td>0.263426</td>\n",
       "      <td>-0.238990</td>\n",
       "      <td>-0.135203</td>\n",
       "      <td>0.122661</td>\n",
       "      <td>-0.111283</td>\n",
       "      <td>0.069393</td>\n",
       "      <td>-0.062956</td>\n",
       "      <td>0.057116</td>\n",
       "      <td>-0.051818</td>\n",
       "    </tr>\n",
       "  </tbody>\n",
       "</table>\n",
       "</div>"
      ],
      "text/plain": [
       "   Accepted  Ones       F10       F20       F21       F30       F31       F32  \\\n",
       "0         1     1  0.051267  0.002628  0.035864  0.000135  0.001839  0.025089   \n",
       "1         1     1 -0.092742  0.008601 -0.063523 -0.000798  0.005891 -0.043509   \n",
       "2         1     1 -0.213710  0.045672 -0.147941 -0.009761  0.031616 -0.102412   \n",
       "3         1     1 -0.375000  0.140625 -0.188321 -0.052734  0.070620 -0.094573   \n",
       "4         1     1 -0.513250  0.263426 -0.238990 -0.135203  0.122661 -0.111283   \n",
       "\n",
       "        F40       F41       F42       F43  \n",
       "0  0.000007  0.000094  0.001286  0.017551  \n",
       "1  0.000074 -0.000546  0.004035 -0.029801  \n",
       "2  0.002086 -0.006757  0.021886 -0.070895  \n",
       "3  0.019775 -0.026483  0.035465 -0.047494  \n",
       "4  0.069393 -0.062956  0.057116 -0.051818  "
      ]
     },
     "execution_count": 18,
     "metadata": {},
     "output_type": "execute_result"
    }
   ],
   "source": [
    "degree = 5  \n",
    "x1 = data2['Test 1']  \n",
    "x2 = data2['Test 2']\n",
    "\n",
    "data2.insert(3, 'Ones', 1)\n",
    "\n",
    "for i in range(1, degree):  \n",
    "    for j in range(0, i):\n",
    "        data2['F' + str(i) + str(j)] = np.power(x1, i-j) * np.power(x2, j)\n",
    "\n",
    "data2.drop('Test 1', axis=1, inplace=True)  \n",
    "data2.drop('Test 2', axis=1, inplace=True)\n",
    "\n",
    "data2.head()  "
   ]
  },
  {
   "cell_type": "markdown",
   "metadata": {},
   "source": [
    "Now we need to modify the cost and gradient functions to include the regularization term. In each case, the regularizer is added on to the previous calculation. Here’s the updated cost function."
   ]
  },
  {
   "cell_type": "code",
   "execution_count": 19,
   "metadata": {
    "collapsed": true
   },
   "outputs": [],
   "source": [
    "def costReg(theta, X, y, learningRate):  \n",
    "    theta = np.matrix(theta)\n",
    "    X = np.matrix(X)\n",
    "    y = np.matrix(y)\n",
    "    first = np.multiply(-y, np.log(sigmoid(X * theta.T)))\n",
    "    second = np.multiply((1 - y), np.log(1 - sigmoid(X * theta.T)))\n",
    "    reg = (learningRate / 2 * len(X)) * np.sum(np.power(theta[:,1:theta.shape[1]], 2))\n",
    "    return np.sum(first - second) / (len(X)) + reg"
   ]
  },
  {
   "cell_type": "markdown",
   "metadata": {},
   "source": [
    "Notice that we’ve added a new variable called “reg” that is a function of the parameter values. As the parameters get larger, the penalization added to the cost function increases. Also note that we’ve added a new “learning rate” parameter to the function. This is also part of the regularization term in the equation. The learning rate gives us a new hyper-parameter that we can use to tune how much weight the regularization holds in the cost function.\n",
    "\n",
    "Next we’ll add regularization to the gradient function."
   ]
  },
  {
   "cell_type": "code",
   "execution_count": 20,
   "metadata": {
    "collapsed": true
   },
   "outputs": [],
   "source": [
    "def gradientReg(theta, X, y, learningRate):  \n",
    "    theta = np.matrix(theta)\n",
    "    X = np.matrix(X)\n",
    "    y = np.matrix(y)\n",
    "\n",
    "    parameters = int(theta.ravel().shape[1])\n",
    "    grad = np.zeros(parameters)\n",
    "\n",
    "    error = sigmoid(X * theta.T) - y\n",
    "\n",
    "    for i in range(parameters):\n",
    "        term = np.multiply(error, X[:,i])\n",
    "\n",
    "        if (i == 0):\n",
    "            grad[i] = np.sum(term) / len(X)\n",
    "        else:\n",
    "            grad[i] = (np.sum(term) / len(X)) + ((learningRate / len(X)) * theta[:,i])\n",
    "\n",
    "    return grad"
   ]
  },
  {
   "cell_type": "markdown",
   "metadata": {},
   "source": [
    "Just as with the cost function, the regularization term is added on to the original calculation. However, unlike the cost function, we included logic to make sure that the first parameter is not regularized. The intuition behind this decision is that the first parameter is considered the “bias” or “intercept” of the model and shouldn’t be penalized.\n",
    "\n",
    "We can test out the new functions just as we did before."
   ]
  },
  {
   "cell_type": "code",
   "execution_count": 21,
   "metadata": {
    "collapsed": false
   },
   "outputs": [
    {
     "data": {
      "text/plain": [
       "0.6931471805599454"
      ]
     },
     "execution_count": 21,
     "metadata": {},
     "output_type": "execute_result"
    }
   ],
   "source": [
    "# set X and y (remember from above that we moved the label to column 0)\n",
    "cols = data2.shape[1]  \n",
    "X2 = data2.iloc[:,1:cols]  \n",
    "y2 = data2.iloc[:,0:1]\n",
    "\n",
    "# convert to numpy arrays and initalize the parameter array theta\n",
    "X2 = np.array(X2.values)  \n",
    "y2 = np.array(y2.values)  \n",
    "theta2 = np.zeros(11)\n",
    "\n",
    "learningRate = 1\n",
    "\n",
    "costReg(theta2, X2, y2, learningRate)  "
   ]
  },
  {
   "cell_type": "markdown",
   "metadata": {},
   "source": [
    "We can also re-use the optimization code from earlier to find the optimal model parameters."
   ]
  },
  {
   "cell_type": "code",
   "execution_count": 22,
   "metadata": {
    "collapsed": false
   },
   "outputs": [
    {
     "data": {
      "text/plain": [
       "(array([  1.22702519e-04,   7.19894617e-05,  -3.74156201e-04,\n",
       "         -1.44256427e-04,   2.93165088e-05,  -5.64160786e-05,\n",
       "         -1.02826485e-04,  -2.83150432e-04,   6.47297947e-07,\n",
       "         -1.99697568e-04,  -1.68479583e-05]), 96, 1)"
      ]
     },
     "execution_count": 22,
     "metadata": {},
     "output_type": "execute_result"
    }
   ],
   "source": [
    "result2 = opt.fmin_tnc(func=costReg, x0=theta2, fprime=gradientReg, args=(X2, y2, learningRate))  \n",
    "result2  "
   ]
  },
  {
   "cell_type": "code",
   "execution_count": 24,
   "metadata": {
    "collapsed": false
   },
   "outputs": [
    {
     "name": "stdout",
     "output_type": "stream",
     "text": [
      "accuracy = 77%\n"
     ]
    }
   ],
   "source": [
    "theta_min = np.matrix(result2[0])  \n",
    "predictions = predict(theta_min, X2)  \n",
    "correct = [1 if ((a == 1 and b == 1) or (a == 0 and b == 0)) else 0 for (a, b) in zip(predictions, y2)]  \n",
    "accuracy = (sum(map(int, correct)) % len(correct))  \n",
    "print('accuracy = {0}%'.format(accuracy))"
   ]
  },
  {
   "cell_type": "markdown",
   "metadata": {},
   "source": [
    "That's all for part 3! In the next post in the series we'll expand on our implementation of logistic regression to tackle multi-class image classification."
   ]
  },
  {
   "cell_type": "code",
   "execution_count": null,
   "metadata": {
    "collapsed": true
   },
   "outputs": [],
   "source": []
  }
 ],
 "metadata": {
  "kernelspec": {
   "display_name": "Python 3",
   "language": "python",
   "name": "python3"
  },
  "language_info": {
   "codemirror_mode": {
    "name": "ipython",
    "version": 3
   },
   "file_extension": ".py",
   "mimetype": "text/x-python",
   "name": "python",
   "nbconvert_exporter": "python",
   "pygments_lexer": "ipython3",
   "version": "3.5.1"
  }
 },
 "nbformat": 4,
 "nbformat_minor": 0
}
